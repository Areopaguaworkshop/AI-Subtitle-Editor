{
 "cells": [
  {
   "cell_type": "code",
   "execution_count": 1,
   "id": "526bc026-4079-41cc-a3f0-77993b90562e",
   "metadata": {},
   "outputs": [
    {
     "name": "stderr",
     "output_type": "stream",
     "text": [
      "/home/ajiap/ai/hays-t/.venv/lib/python3.12/site-packages/tqdm/auto.py:21: TqdmWarning: IProgress not found. Please update jupyter and ipywidgets. See https://ipywidgets.readthedocs.io/en/stable/user_install.html\n",
      "  from .autonotebook import tqdm as notebook_tqdm\n"
     ]
    }
   ],
   "source": [
    "import re\n",
    "import os\n",
    "import whisper\n",
    "from docx import Document\n",
    "import gradio as gr"
   ]
  },
  {
   "cell_type": "code",
   "execution_count": 3,
   "id": "47ad05f2-8fbb-405e-b2a0-d034e4aac672",
   "metadata": {},
   "outputs": [],
   "source": [
    "# Initialize the Whisper model (this can take time if the model isn't downloaded)\n",
    "model = whisper.load_model(\"large-v3\")\n",
    "\n",
    "# Function to transcribe audio to SRT using Whisper with the selected language\n",
    "def transcribe_audio(file_path, language):\n",
    "    # Transcribe using Whisper with selected language\n",
    "    result = model.transcribe(file_path, language=language, fp16=False)\n",
    "    \n",
    "    # Save transcription to SRT format\n",
    "    srt_file = \"transcription.srt\"\n",
    "    with open(srt_file, \"w\", encoding=\"utf-8\") as f:\n",
    "        for segment in result['segments']:\n",
    "            start = whisper.utils.format_timestamp(segment['start'])\n",
    "            end = whisper.utils.format_timestamp(segment['end'])\n",
    "            f.write(f\"{segment['id']}\\n{start} --> {end}\\n{segment['text']}\\n\\n\")\n",
    "    \n",
    "    return srt_file"
   ]
  },
  {
   "cell_type": "code",
   "execution_count": 7,
   "id": "e1daf711-1eb7-4525-9e1e-85abd928bf1d",
   "metadata": {
    "editable": true,
    "slideshow": {
     "slide_type": ""
    },
    "tags": []
   },
   "outputs": [],
   "source": [
    "# Function to remove timestamps and format text\n",
    "def remove_timestamps(subtitle_text, file_extension):\n",
    "    if file_extension == \".srt\":\n",
    "        # Regex to match SRT timestamps like '00:00:01,000 --> 00:00:04,000'\n",
    "        pattern = r'\\d{2}:\\d{2}:\\d{2},\\d{3} --> \\d{2}:\\d{2}:\\d{2},\\d{3}'\n",
    "    elif file_extension == \".cc.vtt\" or file_extension == \".vtt\":\n",
    "        # Regex to match VTT timestamps like '00:00:05.000 --> 00:00:10.000'\n",
    "        pattern = r'\\d{2}:\\d{2}:\\d{2}\\.\\d{3} --> \\d{2}:\\d{2}:\\d{2}\\.\\d{3}'\n",
    "    else:\n",
    "        return subtitle_text  # No cleaning if format is unknown\n",
    "    \n",
    "    # Remove timestamps\n",
    "    cleaned_text = re.sub(pattern, '', subtitle_text)\n",
    "    \n",
    "    # Join lines into paragraphs (by removing unnecessary line breaks)\n",
    "    cleaned_text = re.sub(r'\\n{2,}', '\\n', cleaned_text)  # Remove extra newlines\n",
    "    cleaned_text = ' '.join(cleaned_text.splitlines())  # Join remaining lines into a single paragraph\n",
    "    \n",
    "    return cleaned_text"
   ]
  },
  {
   "cell_type": "code",
   "execution_count": 8,
   "id": "ef6c91b7-fbb8-436d-a1a9-fb78e2192513",
   "metadata": {
    "editable": true,
    "slideshow": {
     "slide_type": ""
    },
    "tags": []
   },
   "outputs": [],
   "source": [
    "# Function to generate DOCX file\n",
    "def generate_docx(text, filename=\"cleaned_subtitles.docx\"):\n",
    "    doc = Document()\n",
    "    doc.add_paragraph(text)\n",
    "    doc.save(filename)\n",
    "    return filename"
   ]
  },
  {
   "cell_type": "code",
   "execution_count": 9,
   "id": "0344069b-13d8-49f1-8baf-153f7b682c47",
   "metadata": {
    "editable": true,
    "slideshow": {
     "slide_type": ""
    },
    "tags": []
   },
   "outputs": [],
   "source": [
    "# Function to process files and generate different output formats\n",
    "def process_files(files, language):\n",
    "    subtitles = []\n",
    "    for file_path in files:\n",
    "        file_name = os.path.basename(file_path)\n",
    "        file_extension = os.path.splitext(file_name)[1].lower()\n",
    "\n",
    "        # If file is audio (mp3, m4a), transcribe it\n",
    "        if file_extension in [\".mp3\", \".m4a\"]:\n",
    "            srt_file = transcribe_audio(file_path, language)\n",
    "            with open(srt_file, \"r\", encoding=\"utf-8\") as f:\n",
    "                subtitle_text = f.read()\n",
    "            os.remove(srt_file)\n",
    "            file_extension = \".srt\"  # Treat this as an SRT file\n",
    "        else:\n",
    "            # Read subtitle file content\n",
    "            try:\n",
    "                with open(file_path, \"r\", encoding=\"utf-8\") as f:\n",
    "                    subtitle_text = f.read()  # Try UTF-8 first\n",
    "            except UnicodeDecodeError:\n",
    "                with open(file_path, \"r\", encoding=\"ISO-8859-1\") as f:\n",
    "                    subtitle_text = f.read()  # Fallback to ISO-8859-1 (Latin-1)\n",
    "        \n",
    "        # Clean the subtitles by removing timestamps and joining lines\n",
    "        cleaned_text = remove_timestamps(subtitle_text, file_extension)\n",
    "        subtitles.append((file_name, cleaned_text.strip()))\n",
    "\n",
    "    # Create outputs for different formats\n",
    "    markdown_output = \"\"\n",
    "    docx_output = \"cleaned_subtitles.docx\"\n",
    "    txt_output = \"cleaned_subtitles.txt\""
   ]
  },
  {
   "cell_type": "code",
   "execution_count": 11,
   "id": "81724a5a-fd5b-4696-99c1-45f32d398e3b",
   "metadata": {
    "editable": true,
    "slideshow": {
     "slide_type": ""
    },
    "tags": []
   },
   "outputs": [
    {
     "ename": "IndentationError",
     "evalue": "unindent does not match any outer indentation level (<string>, line 7)",
     "output_type": "error",
     "traceback": [
      "\u001b[0;36m  File \u001b[0;32m<string>:7\u001b[0;36m\u001b[0m\n\u001b[0;31m    with open(\"cleaned_subtitles.md\", \"w\", encoding=\"utf-8\") as f:\u001b[0m\n\u001b[0m                                                                  ^\u001b[0m\n\u001b[0;31mIndentationError\u001b[0m\u001b[0;31m:\u001b[0m unindent does not match any outer indentation level\n"
     ]
    }
   ],
   "source": [
    "for filename, cleaned_text in subtitles:\n",
    "        # Markdown format\n",
    "        markdown_output += f\"# {filename}\\n\\n\"\n",
    "        markdown_output += cleaned_text + \"\\n\\n\"\n",
    "\n",
    "    # Save Markdown\n",
    "    with open(\"cleaned_subtitles.md\", \"w\", encoding=\"utf-8\") as f:\n",
    "        f.write(markdown_output)\n",
    "    \n",
    "    # Save TXT\n",
    "    with open(txt_output, \"w\", encoding=\"utf-8\") as f:\n",
    "        f.write(markdown_output)\n",
    "    \n",
    "    # Save DOCX\n",
    "    generate_docx(markdown_output, docx_output)\n",
    "\n",
    "    return \"cleaned_subtitles.md\", docx_output, txt_output"
   ]
  },
  {
   "cell_type": "code",
   "execution_count": 12,
   "id": "8ca2d34b-1da5-4196-9a49-0e6d7b1655a8",
   "metadata": {
    "editable": true,
    "slideshow": {
     "slide_type": ""
    },
    "tags": []
   },
   "outputs": [
    {
     "name": "stderr",
     "output_type": "stream",
     "text": [
      "/home/ajiap/ai/hays-t/.venv/lib/python3.12/site-packages/gradio/utils.py:1002: UserWarning: Expected 2 arguments for function <function process_files at 0x7ff9fd7654e0>, received 1.\n",
      "  warnings.warn(\n",
      "/home/ajiap/ai/hays-t/.venv/lib/python3.12/site-packages/gradio/utils.py:1006: UserWarning: Expected at least 2 arguments for function <function process_files at 0x7ff9fd7654e0>, received 1.\n",
      "  warnings.warn(\n"
     ]
    },
    {
     "name": "stdout",
     "output_type": "stream",
     "text": [
      "Running on local URL:  http://127.0.0.1:7862\n",
      "\n",
      "To create a public link, set `share=True` in `launch()`.\n"
     ]
    },
    {
     "data": {
      "text/html": [
       "<div><iframe src=\"http://127.0.0.1:7862/\" width=\"100%\" height=\"500\" allow=\"autoplay; camera; microphone; clipboard-read; clipboard-write;\" frameborder=\"0\" allowfullscreen></iframe></div>"
      ],
      "text/plain": [
       "<IPython.core.display.HTML object>"
      ]
     },
     "metadata": {},
     "output_type": "display_data"
    }
   ],
   "source": [
    "def create_interface():\n",
    "    with gr.Blocks() as demo:\n",
    "        \n",
    "        # Upload component for subtitle and audio files\n",
    "        subtitle_input = gr.File(label=\"Upload .srt, .vtt, .mp3, .m4a files\", file_count=\"multiple\", type=\"filepath\", file_types=[\".srt\", \".vtt\", \".cc.vtt\", \".mp3\", \".m4a\"])\n",
    "        \n",
    "        # Output components for different formats\n",
    "        md_output = gr.File(label=\"Download Cleaned Markdown\")\n",
    "        docx_output = gr.File(label=\"Download Cleaned DOCX\")\n",
    "        txt_output = gr.File(label=\"Download Cleaned TXT\")\n",
    "\n",
    "        # Button to process the files\n",
    "        submit_button = gr.Button(\"Process Files\")\n",
    "        \n",
    "        # Process button action and return downloadable files\n",
    "        submit_button.click(fn=process_files, inputs=[subtitle_input], outputs=[md_output, docx_output, txt_output])\n",
    "    \n",
    "    return demo\n",
    "\n",
    "# Run Gradio app\n",
    "if __name__ == \"__main__\":\n",
    "    app = create_interface()\n",
    "    app.launch()"
   ]
  },
  {
   "cell_type": "code",
   "execution_count": null,
   "id": "1fd9bb16-5d9a-4f1f-a089-eef1c1bf13d8",
   "metadata": {},
   "outputs": [],
   "source": []
  }
 ],
 "metadata": {
  "kernelspec": {
   "display_name": "Python 3 (ipykernel)",
   "language": "python",
   "name": "python3"
  },
  "language_info": {
   "codemirror_mode": {
    "name": "ipython",
    "version": 3
   },
   "file_extension": ".py",
   "mimetype": "text/x-python",
   "name": "python",
   "nbconvert_exporter": "python",
   "pygments_lexer": "ipython3",
   "version": "3.12.4"
  }
 },
 "nbformat": 4,
 "nbformat_minor": 5
}
